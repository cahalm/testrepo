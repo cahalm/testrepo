{
 "cells": [
  {
   "cell_type": "code",
   "execution_count": 12,
   "id": "e2f574ad-d025-47af-9658-b90a1bfc0751",
   "metadata": {},
   "outputs": [],
   "source": [
    "#import xlrd\n",
    "import math\n",
    "import numpy\n",
    "import numpy as np\n",
    "import pandas as pd\n",
    "\n",
    "from datetime import datetime\n",
    "from dateutil.relativedelta import relativedelta\n",
    "import scipy\n",
    "import scipy.stats as si\n",
    "import matplotlib.pyplot as plt\n",
    "import warnings"
   ]
  },
  {
   "cell_type": "markdown",
   "id": "bc20a518-5c45-4369-88e3-fb04053c71f4",
   "metadata": {},
   "source": [
    "## Data "
   ]
  },
  {
   "cell_type": "code",
   "execution_count": null,
   "id": "52eae486-c3ea-4e69-8aa7-9b0f44636fb8",
   "metadata": {},
   "outputs": [],
   "source": [
    "# sp500_path = '.\\Resources\\Stock and Index Options\\SP500 Option.csv'\n",
    "sp500_path = '/Users/cahalmurphy/Documents/UCD Files/Stage 4/Semester_2/FIN30190 - Financial Economics II/Project_B/Resources/Stock and Index Options/SP500 Option.csv'\n",
    "headers = ['Date', 'SecurityID', 'SecurityPrice', 'TotalReturn', 'AdjustmentFactor', 'AdjustmentFactor2',\n",
    "          'InterestRate','Expiration','Strike','OptionID', 'CallPut', 'BestBid', 'BestOffer', 'ImpliedVolatility',\n",
    "          'Delta', 'Gamma', 'Vega', 'Theta']\n",
    "dtypes = {'Date': str,\n",
    "         'SecurityID': int,\n",
    "         'SecurityPrice': np.float32,\n",
    "         'TotalReturn': np.float32,\n",
    "         'AdjustmentFactor': int,\n",
    "         'AdjustmentFactor2': np.float32,\n",
    "         'InterestRate': np.float32,\n",
    "         'Expiration': str,\n",
    "         'Strike': np.float32,\n",
    "         'OptionID': int,\n",
    "         'CallPut': str,\n",
    "         'BestBid': np.float32,\n",
    "         'BestOffer': np.float32,\n",
    "         'ImpliedVolatility': np.float32,\n",
    "         'Delta': np.float32,\n",
    "         'Gamma': np.float32,\n",
    "         'Vega': np.float32,\n",
    "         'Theta': np.float32,\n",
    "         }\n",
    "def _dateparser(x):\n",
    "    return datetime.strptime(x, '%Y-%m-%d %H:%M:%S')"
   ]
  },
  {
   "cell_type": "code",
   "execution_count": 7,
   "id": "7885a1ca-c1b9-47ca-a285-a2331fbf9d0d",
   "metadata": {},
   "outputs": [],
   "source": []
  },
  {
   "cell_type": "code",
   "execution_count": null,
   "id": "5158f232-dc28-4e3a-ba5a-3ae2533a6a57",
   "metadata": {},
   "outputs": [],
   "source": []
  },
  {
   "cell_type": "code",
   "execution_count": 20,
   "id": "e70b7e54-ab54-4608-a2b2-a6aa22faaa68",
   "metadata": {},
   "outputs": [],
   "source": []
  },
  {
   "cell_type": "code",
   "execution_count": 24,
   "id": "799dbcd8-14ef-45b3-8350-85e23cc57e4b",
   "metadata": {},
   "outputs": [],
   "source": [
    "def SABR(alpha,beta,rho,nu,F,K,time): # all variables are scalars\n",
    "\n",
    "    if K <= 0:   # negative rates' problem, need to shift the smile\n",
    "        VOL = 0\n",
    "        diff = 0\n",
    "    elif F == K: # ATM formula\n",
    "        V = (F*K)**((1-beta)/2.)\n",
    "        logFK = math.log(F/K)\n",
    "        A = 1 + ( ((1-beta)**2*alpha**2)/(24.*(V**2)) + (alpha*beta*nu*rho)/(4.*V) + ((nu**2)*(2-3*(rho**2))/24.) ) * time\n",
    "        B = 1 + (1/24.)*(((1-beta)*logFK)**2) + (1/1920.)*(((1-beta)*logFK)**4)\n",
    "        VOL = (alpha/V)*A\n",
    "        \n",
    "    elif F != K: # not-ATM formula\n",
    "        V = (F*K)**((1-beta)/2.)\n",
    "        logFK = math.log(F/K)\n",
    "        z = (nu/alpha)*V*logFK\n",
    "        x = math.log( ( math.sqrt(1-2*rho*z+z**2) + z - rho ) / (1-rho) )\n",
    "        A = 1 + ( ((1-beta)**2*alpha**2)/(24.*(V**2)) + (alpha*beta*nu*rho)/(4.*V) + ((nu**2)*(2-3*(rho**2))/24.) ) * time\n",
    "        B = 1 + (1/24.)*(((1-beta)*logFK)**2) + (1/1920.)*(((1-beta)*logFK)**4)\n",
    "        VOL = (nu*logFK*A)/(x*B)\n",
    "        \n",
    "\n",
    "    return VOL\n",
    "\n",
    "\n",
    "def rmse(market, model)->np.float64:\n",
    "    return np.sqrt( (np.power(market-model, 2) ).mean() )\n",
    "\n",
    "\n",
    "def objective_func(params, Beta, strikes, mkt_vols, fwd, tenor)->np.float64:\n",
    "    model_output = []\n",
    "    for strike in strikes:\n",
    "        model_ivol = SABR(alpha=params[0], rho=params[1], nu=params[2], F=fwd, K=strike, time=tenor, beta=Beta)\n",
    "        model_output.append(model_ivol)\n",
    "        \n",
    "    model_output = np.array(model_output, dtype=np.float64)\n",
    "    # calculate the error\n",
    "    error = rmse(market=mkt_vols, model=model_output)\n",
    "    # print(x, error)\n",
    "    return error"
   ]
  },
  {
   "cell_type": "markdown",
   "id": "8b8ce94a-4edc-4a8e-981b-69570c9fc424",
   "metadata": {},
   "source": [
    "* Testing to Match MatLab"
   ]
  },
  {
   "cell_type": "code",
   "execution_count": 35,
   "id": "6d3dfa21-41b7-453f-a8d9-d30742218986",
   "metadata": {},
   "outputs": [],
   "source": [
    "MarketStrikes = [2.0, 2.5, 3.0, 3.5, 4.0, 4.5, 5.0]\n",
    "MarketVolatilities = [45.6, 41.6, 37.9, 36.6, 37.8, 39.2, 40.0]\n",
    "dff = pd.DataFrame(index= MarketStrikes, columns=[\"Strike\", \"IV\"], data={'Strike':MarketStrikes, 'IV':MarketVolatilities} )\n",
    "dff/=100\n",
    "dff.index/=100"
   ]
  },
  {
   "cell_type": "code",
   "execution_count": 36,
   "id": "5d77a85c-7e50-4142-8fb0-15b885eb195f",
   "metadata": {},
   "outputs": [],
   "source": [
    "initial_guess = [0.1, 0.2, 0.05]\n",
    "bnds = ((0.01, None), (0.01, None), (-1, 1))\n",
    "fwd = dff.Strike.iloc[3]\n",
    "r = scipy.optimize.minimize(objective_func, x0=initial_guess,\n",
    "                        args=(0.5, dff.Strike.to_numpy(), dff.IV.to_numpy(), fwd, 3), bounds=bnds)"
   ]
  },
  {
   "cell_type": "code",
   "execution_count": 37,
   "id": "a0e08186-aef3-4916-af75-fcc9b22bb522",
   "metadata": {},
   "outputs": [
    {
     "data": {
      "text/plain": [
       "array([0.06028355, 0.20970089, 0.75095967])"
      ]
     },
     "execution_count": 37,
     "metadata": {},
     "output_type": "execute_result"
    }
   ],
   "source": [
    "r.x"
   ]
  },
  {
   "cell_type": "code",
   "execution_count": 38,
   "id": "b25216e5-6556-4864-8c4d-878f214223f5",
   "metadata": {},
   "outputs": [],
   "source": [
    "for K in dff.Strike.values:\n",
    "    dff.loc[K, \"sabr\"] = SABR(alpha=r.x[0], rho=r.x[1], nu=r.x[2], F=fwd, K=K, time=3, beta=0.5)"
   ]
  },
  {
   "cell_type": "code",
   "execution_count": 39,
   "id": "74b0051a-9b7d-40e7-b0c5-4f374bf250b0",
   "metadata": {},
   "outputs": [
    {
     "data": {
      "text/html": [
       "<div>\n",
       "<style scoped>\n",
       "    .dataframe tbody tr th:only-of-type {\n",
       "        vertical-align: middle;\n",
       "    }\n",
       "\n",
       "    .dataframe tbody tr th {\n",
       "        vertical-align: top;\n",
       "    }\n",
       "\n",
       "    .dataframe thead th {\n",
       "        text-align: right;\n",
       "    }\n",
       "</style>\n",
       "<table border=\"1\" class=\"dataframe\">\n",
       "  <thead>\n",
       "    <tr style=\"text-align: right;\">\n",
       "      <th></th>\n",
       "      <th>Strike</th>\n",
       "      <th>IV</th>\n",
       "      <th>sabr</th>\n",
       "    </tr>\n",
       "  </thead>\n",
       "  <tbody>\n",
       "    <tr>\n",
       "      <th>0.020</th>\n",
       "      <td>0.020</td>\n",
       "      <td>0.456</td>\n",
       "      <td>0.459735</td>\n",
       "    </tr>\n",
       "    <tr>\n",
       "      <th>0.025</th>\n",
       "      <td>0.025</td>\n",
       "      <td>0.416</td>\n",
       "      <td>0.408475</td>\n",
       "    </tr>\n",
       "    <tr>\n",
       "      <th>0.030</th>\n",
       "      <td>0.030</td>\n",
       "      <td>0.379</td>\n",
       "      <td>0.380304</td>\n",
       "    </tr>\n",
       "    <tr>\n",
       "      <th>0.035</th>\n",
       "      <td>0.035</td>\n",
       "      <td>0.366</td>\n",
       "      <td>0.371839</td>\n",
       "    </tr>\n",
       "    <tr>\n",
       "      <th>0.040</th>\n",
       "      <td>0.040</td>\n",
       "      <td>0.378</td>\n",
       "      <td>0.376629</td>\n",
       "    </tr>\n",
       "    <tr>\n",
       "      <th>0.045</th>\n",
       "      <td>0.045</td>\n",
       "      <td>0.392</td>\n",
       "      <td>0.388021</td>\n",
       "    </tr>\n",
       "    <tr>\n",
       "      <th>0.050</th>\n",
       "      <td>0.050</td>\n",
       "      <td>0.400</td>\n",
       "      <td>0.401855</td>\n",
       "    </tr>\n",
       "  </tbody>\n",
       "</table>\n",
       "</div>"
      ],
      "text/plain": [
       "       Strike     IV      sabr\n",
       "0.020   0.020  0.456  0.459735\n",
       "0.025   0.025  0.416  0.408475\n",
       "0.030   0.030  0.379  0.380304\n",
       "0.035   0.035  0.366  0.371839\n",
       "0.040   0.040  0.378  0.376629\n",
       "0.045   0.045  0.392  0.388021\n",
       "0.050   0.050  0.400  0.401855"
      ]
     },
     "execution_count": 39,
     "metadata": {},
     "output_type": "execute_result"
    }
   ],
   "source": [
    "dff"
   ]
  },
  {
   "cell_type": "code",
   "execution_count": 44,
   "id": "3759413c-9dfa-4a69-a3e7-b6cd53aedcdc",
   "metadata": {},
   "outputs": [
    {
     "data": {
      "text/plain": [
       "<Axes: xlabel='IV', ylabel='sabr'>"
      ]
     },
     "execution_count": 44,
     "metadata": {},
     "output_type": "execute_result"
    },
    {
     "data": {
      "image/png": "[encoded data removed]",
      "text/plain": [
       "<Figure size 640x480 with 1 Axes>"
      ]
     },
     "metadata": {},
     "output_type": "display_data"
    }
   ],
   "source": [
    "dff[[\"IV\", \"sabr\"]].plot(kind='scatter', x='IV', y='sabr')"
   ]
  },
  {
   "cell_type": "code",
   "execution_count": null,
   "id": "380e6f17-cdb8-4c85-8f87-10c66c915631",
   "metadata": {},
   "outputs": [],
   "source": []
  },
  {
   "cell_type": "code",
   "execution_count": null,
   "id": "dbe51d16-d3bf-424b-b2a7-88972d443911",
   "metadata": {},
   "outputs": [],
   "source": []
  },
  {
   "cell_type": "code",
   "execution_count": null,
   "id": "65eb0b5d-b08a-4d3c-a435-2033a4442c79",
   "metadata": {},
   "outputs": [],
   "source": []
  },
  {
   "cell_type": "code",
   "execution_count": null,
   "id": "9c320d22-da52-42ae-a6f4-43901704a877",
   "metadata": {},
   "outputs": [],
   "source": []
  }
 ],
 "metadata": {
  "kernelspec": {
   "display_name": "main_py310",
   "language": "python",
   "name": "main_py310"
  },
  "language_info": {
   "codemirror_mode": {
    "name": "ipython",
    "version": 3
   },
   "file_extension": ".py",
   "mimetype": "text/x-python",
   "name": "python",
   "nbconvert_exporter": "python",
   "pygments_lexer": "ipython3",
   "version": "3.10.9"
  }
 },
 "nbformat": 4,
 "nbformat_minor": 5
}
